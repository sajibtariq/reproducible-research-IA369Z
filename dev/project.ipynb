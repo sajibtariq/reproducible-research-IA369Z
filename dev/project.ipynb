{
 "cells": [
  {
   "cell_type": "markdown",
   "metadata": {},
   "source": [
    "# Data Aqusition"
   ]
  },
  {
   "cell_type": "code",
   "execution_count": null,
   "metadata": {},
   "outputs": [],
   "source": [
    "#testbed"
   ]
  },
  {
   "cell_type": "markdown",
   "metadata": {},
   "source": [
    "# Data Preprocess and Analysis"
   ]
  },
  {
   "cell_type": "code",
   "execution_count": 11,
   "metadata": {},
   "outputs": [],
   "source": [
    "import os\n",
    "import pandas as pd\n",
    "import numpy as np\n",
    "import matplotlib.pyplot as plt\n",
    "import seaborn as sns\n",
    "from sklearn.model_selection import train_test_split\n",
    "from sklearn import metrics\n",
    "from sklearn.metrics import confusion_matrix\n",
    "from sklearn.metrics import classification_report\n",
    "from imblearn.over_sampling import SMOTE \n",
    "from sklearn import model_selection\n",
    "from sklearn.linear_model import LogisticRegression\n",
    "from sklearn.tree import DecisionTreeClassifier\n",
    "from sklearn.ensemble import RandomForestClassifier\n",
    "from sklearn.neighbors import KNeighborsClassifier\n",
    "from sklearn.discriminant_analysis import LinearDiscriminantAnalysis\n",
    "from sklearn.naive_bayes import GaussianNB\n",
    "from sklearn.svm import SVC\n",
    "from sklearn.neural_network import MLPClassifier\n",
    "from sklearn.model_selection import GridSearchCV\n",
    "import warnings\n",
    "warnings.filterwarnings('ignore')\n",
    "%matplotlib inline\n"
   ]
  },
  {
   "cell_type": "markdown",
   "metadata": {},
   "source": [
    "#  Load dataset \n",
    "three classes for MOS value; \n",
    "poor (1) = 1 - 2 ;\n",
    "average (2) = 2 - 3 ;\n",
    "good (3)= 3- 5 ;"
   ]
  },
  {
   "cell_type": "code",
   "execution_count": 12,
   "metadata": {},
   "outputs": [
    {
     "data": {
      "text/html": [
       "<div>\n",
       "<style scoped>\n",
       "    .dataframe tbody tr th:only-of-type {\n",
       "        vertical-align: middle;\n",
       "    }\n",
       "\n",
       "    .dataframe tbody tr th {\n",
       "        vertical-align: top;\n",
       "    }\n",
       "\n",
       "    .dataframe thead th {\n",
       "        text-align: right;\n",
       "    }\n",
       "</style>\n",
       "<table border=\"1\" class=\"dataframe\">\n",
       "  <thead>\n",
       "    <tr style=\"text-align: right;\">\n",
       "      <th></th>\n",
       "      <th>Type</th>\n",
       "      <th>Mobility</th>\n",
       "      <th>Operator</th>\n",
       "      <th>Trace</th>\n",
       "      <th>Total host</th>\n",
       "      <th>Client</th>\n",
       "      <th>Algorithm</th>\n",
       "      <th>Port</th>\n",
       "      <th>Segment</th>\n",
       "      <th>RTT</th>\n",
       "      <th>Throughput</th>\n",
       "      <th>Packets</th>\n",
       "      <th>MOS</th>\n",
       "      <th>Stall Duration</th>\n",
       "      <th>Rep_level</th>\n",
       "      <th>Byte Size</th>\n",
       "      <th>Buffer level</th>\n",
       "      <th>Width</th>\n",
       "      <th>Height</th>\n",
       "      <th>mos</th>\n",
       "    </tr>\n",
       "  </thead>\n",
       "  <tbody>\n",
       "    <tr>\n",
       "      <th>0</th>\n",
       "      <td>3g</td>\n",
       "      <td>metro</td>\n",
       "      <td>Am</td>\n",
       "      <td>1.0</td>\n",
       "      <td>1</td>\n",
       "      <td>1</td>\n",
       "      <td>conv</td>\n",
       "      <td>58428</td>\n",
       "      <td>1</td>\n",
       "      <td>0.014</td>\n",
       "      <td>22659.514093</td>\n",
       "      <td>183</td>\n",
       "      <td>1.878</td>\n",
       "      <td>0</td>\n",
       "      <td>237</td>\n",
       "      <td>361713</td>\n",
       "      <td>10000</td>\n",
       "      <td>320</td>\n",
       "      <td>180</td>\n",
       "      <td>1</td>\n",
       "    </tr>\n",
       "    <tr>\n",
       "      <th>1</th>\n",
       "      <td>3g</td>\n",
       "      <td>metro</td>\n",
       "      <td>Am</td>\n",
       "      <td>1.0</td>\n",
       "      <td>1</td>\n",
       "      <td>1</td>\n",
       "      <td>conv</td>\n",
       "      <td>58432</td>\n",
       "      <td>2</td>\n",
       "      <td>59.723</td>\n",
       "      <td>8985.608897</td>\n",
       "      <td>219</td>\n",
       "      <td>1.878</td>\n",
       "      <td>0</td>\n",
       "      <td>237</td>\n",
       "      <td>348932</td>\n",
       "      <td>20000</td>\n",
       "      <td>320</td>\n",
       "      <td>180</td>\n",
       "      <td>1</td>\n",
       "    </tr>\n",
       "    <tr>\n",
       "      <th>2</th>\n",
       "      <td>3g</td>\n",
       "      <td>metro</td>\n",
       "      <td>Am</td>\n",
       "      <td>1.0</td>\n",
       "      <td>1</td>\n",
       "      <td>1</td>\n",
       "      <td>conv</td>\n",
       "      <td>58436</td>\n",
       "      <td>3</td>\n",
       "      <td>0.015</td>\n",
       "      <td>22692.006057</td>\n",
       "      <td>135</td>\n",
       "      <td>1.878</td>\n",
       "      <td>0</td>\n",
       "      <td>237</td>\n",
       "      <td>232527</td>\n",
       "      <td>17928</td>\n",
       "      <td>320</td>\n",
       "      <td>180</td>\n",
       "      <td>1</td>\n",
       "    </tr>\n",
       "    <tr>\n",
       "      <th>3</th>\n",
       "      <td>3g</td>\n",
       "      <td>metro</td>\n",
       "      <td>Am</td>\n",
       "      <td>1.0</td>\n",
       "      <td>1</td>\n",
       "      <td>1</td>\n",
       "      <td>conv</td>\n",
       "      <td>58440</td>\n",
       "      <td>4</td>\n",
       "      <td>328.707</td>\n",
       "      <td>65282.761561</td>\n",
       "      <td>148</td>\n",
       "      <td>1.886</td>\n",
       "      <td>0</td>\n",
       "      <td>237</td>\n",
       "      <td>347702</td>\n",
       "      <td>19861</td>\n",
       "      <td>320</td>\n",
       "      <td>180</td>\n",
       "      <td>1</td>\n",
       "    </tr>\n",
       "    <tr>\n",
       "      <th>4</th>\n",
       "      <td>3g</td>\n",
       "      <td>metro</td>\n",
       "      <td>Am</td>\n",
       "      <td>1.0</td>\n",
       "      <td>1</td>\n",
       "      <td>1</td>\n",
       "      <td>conv</td>\n",
       "      <td>58444</td>\n",
       "      <td>5</td>\n",
       "      <td>140.111</td>\n",
       "      <td>85331.063518</td>\n",
       "      <td>98</td>\n",
       "      <td>1.886</td>\n",
       "      <td>0</td>\n",
       "      <td>237</td>\n",
       "      <td>236167</td>\n",
       "      <td>25988</td>\n",
       "      <td>320</td>\n",
       "      <td>180</td>\n",
       "      <td>1</td>\n",
       "    </tr>\n",
       "  </tbody>\n",
       "</table>\n",
       "</div>"
      ],
      "text/plain": [
       "  Type Mobility Operator  Trace  Total host  Client Algorithm   Port  Segment  \\\n",
       "0   3g    metro       Am    1.0           1       1      conv  58428        1   \n",
       "1   3g    metro       Am    1.0           1       1      conv  58432        2   \n",
       "2   3g    metro       Am    1.0           1       1      conv  58436        3   \n",
       "3   3g    metro       Am    1.0           1       1      conv  58440        4   \n",
       "4   3g    metro       Am    1.0           1       1      conv  58444        5   \n",
       "\n",
       "       RTT    Throughput  Packets    MOS  Stall Duration  Rep_level  \\\n",
       "0    0.014  22659.514093      183  1.878               0        237   \n",
       "1   59.723   8985.608897      219  1.878               0        237   \n",
       "2    0.015  22692.006057      135  1.878               0        237   \n",
       "3  328.707  65282.761561      148  1.886               0        237   \n",
       "4  140.111  85331.063518       98  1.886               0        237   \n",
       "\n",
       "   Byte Size  Buffer level  Width  Height mos  \n",
       "0     361713         10000    320     180   1  \n",
       "1     348932         20000    320     180   1  \n",
       "2     232527         17928    320     180   1  \n",
       "3     347702         19861    320     180   1  \n",
       "4     236167         25988    320     180   1  "
      ]
     },
     "execution_count": 12,
     "metadata": {},
     "output_type": "execute_result"
    }
   ],
   "source": [
    "data = pd.read_csv('/media/loop/Backup/experiment/New/Final_conventional.csv')\n",
    "\n",
    "def class_l(x):\n",
    "\n",
    "    if(x['MOS']>=1 and x['MOS']<2):\n",
    "        return '1'  # poor\n",
    "    if(x['MOS']>=2 and x['MOS']<3 ):\n",
    "        return '2' # average\n",
    "    if(x['MOS']>=3 and x['MOS']<5 ):\n",
    "        return '3' # good\n",
    "    \n",
    "data=data.assign(mos=data.apply(class_l, axis=1)) \n",
    "\n",
    "data.head(5)\n"
   ]
  },
  {
   "cell_type": "code",
   "execution_count": 13,
   "metadata": {},
   "outputs": [],
   "source": [
    "data=data.dropna() #drop entire row due to missing value"
   ]
  },
  {
   "cell_type": "code",
   "execution_count": 14,
   "metadata": {},
   "outputs": [
    {
     "name": "stdout",
     "output_type": "stream",
     "text": [
      "(3591, 20)\n"
     ]
    },
    {
     "data": {
      "text/plain": [
       "3    2046\n",
       "2     968\n",
       "1     577\n",
       "Name: mos, dtype: int64"
      ]
     },
     "execution_count": 14,
     "metadata": {},
     "output_type": "execute_result"
    },
    {
     "data": {
      "image/png": "[encoded data removed]",
      "text/plain": [
       "<Figure size 432x288 with 1 Axes>"
      ]
     },
     "metadata": {},
     "output_type": "display_data"
    }
   ],
   "source": [
    "data['mos'].value_counts()\n",
    "sns.set(style=\"darkgrid\")\n",
    "p = sns.countplot(data=data, x = 'mos')\n",
    "print(data.shape)\n",
    "data['mos'].value_counts()"
   ]
  },
  {
   "cell_type": "markdown",
   "metadata": {},
   "source": [
    "# Select features (X) and target (y)"
   ]
  },
  {
   "cell_type": "code",
   "execution_count": 15,
   "metadata": {},
   "outputs": [],
   "source": [
    "feature=data.loc[:,data.columns.isin(['RTT','Throughput','Packets'])]#3\n",
    "#X=X1.iloc[0:1725]\n",
    "target=data.loc[:,data.columns.isin(['mos'])]#3\n",
    "target.columns= ['mos']\n",
    "#y=y1.iloc[0:1725]\n",
    "#y=y1.iloc[0:1725]"
   ]
  },
  {
   "cell_type": "markdown",
   "metadata": {},
   "source": [
    "# To make our dataset balanced there are two ways to do so:\n",
    "Under-sampling: Remove samples from over-represented classes ; use this if you have huge dataset\n",
    "Over-sampling: Add more samples from under-represented classes; use this if you have small dataset\n",
    "SMOTE (Synthetic Minority Over-sampling Technique)\n",
    "SMOTE is an over-sampling method. It creates synthetic samples of the minority class. We use imblearn python package to over-sample the minority classes ."
   ]
  },
  {
   "cell_type": "code",
   "execution_count": 17,
   "metadata": {
    "scrolled": true
   },
   "outputs": [
    {
     "name": "stdout",
     "output_type": "stream",
     "text": [
      "(6138, 3) (6138, 1)\n"
     ]
    },
    {
     "data": {
      "text/plain": [
       "2    2046\n",
       "3    2046\n",
       "1    2046\n",
       "Name: mos, dtype: int64"
      ]
     },
     "execution_count": 17,
     "metadata": {},
     "output_type": "execute_result"
    },
    {
     "data": {
      "image/png": "[encoded data removed]",
      "text/plain": [
       "<Figure size 432x288 with 1 Axes>"
      ]
     },
     "metadata": {},
     "output_type": "display_data"
    }
   ],
   "source": [
    "feature.shape\n",
    "target.shape\n",
    "smote=SMOTE(random_state=42) # resample all class same\n",
    "X, y=smote.fit_resample(feature,target)\n",
    "print(X.shape, y.shape)\n",
    "\n",
    "sns.set(style=\"darkgrid\")\n",
    "sns.countplot(data=y, x = 'mos')\n",
    "y['mos'].value_counts()"
   ]
  },
  {
   "cell_type": "markdown",
   "metadata": {},
   "source": [
    "# Split dataset into training and testing"
   ]
  },
  {
   "cell_type": "code",
   "execution_count": 18,
   "metadata": {},
   "outputs": [],
   "source": [
    "X_train, X_test,y_train, y_test = train_test_split( X, y, test_size=0.1, random_state=42)"
   ]
  },
  {
   "cell_type": "code",
   "execution_count": null,
   "metadata": {
    "scrolled": true
   },
   "outputs": [
    {
     "name": "stdout",
     "output_type": "stream",
     "text": [
      "Fitting 3 folds for each of 4 candidates, totalling 12 fits\n"
     ]
    },
    {
     "name": "stderr",
     "output_type": "stream",
     "text": [
      "[Parallel(n_jobs=-1)]: Using backend LokyBackend with 40 concurrent workers.\n",
      "[Parallel(n_jobs=-1)]: Done   3 out of  12 | elapsed:    1.0s remaining:    3.0s\n",
      "[Parallel(n_jobs=-1)]: Done  10 out of  12 | elapsed:    1.3s remaining:    0.3s\n",
      "[Parallel(n_jobs=-1)]: Done  12 out of  12 | elapsed:    1.3s finished\n"
     ]
    },
    {
     "name": "stdout",
     "output_type": "stream",
     "text": [
      "Fitting 3 folds for each of 5 candidates, totalling 15 fits\n"
     ]
    },
    {
     "name": "stderr",
     "output_type": "stream",
     "text": [
      "[Parallel(n_jobs=-1)]: Using backend LokyBackend with 40 concurrent workers.\n",
      "[Parallel(n_jobs=-1)]: Done   8 out of  15 | elapsed:    0.9s remaining:    0.8s\n",
      "[Parallel(n_jobs=-1)]: Done  15 out of  15 | elapsed:    1.0s finished\n",
      "[Parallel(n_jobs=-1)]: Using backend LokyBackend with 40 concurrent workers.\n"
     ]
    },
    {
     "name": "stdout",
     "output_type": "stream",
     "text": [
      "Fitting 3 folds for each of 144 candidates, totalling 432 fits\n"
     ]
    },
    {
     "name": "stderr",
     "output_type": "stream",
     "text": [
      "[Parallel(n_jobs=-1)]: Done  97 tasks      | elapsed:    0.4s\n",
      "[Parallel(n_jobs=-1)]: Done 432 out of 432 | elapsed:    1.2s finished\n",
      "[Parallel(n_jobs=-1)]: Using backend LokyBackend with 40 concurrent workers.\n",
      "[Parallel(n_jobs=-1)]: Done   3 out of   3 | elapsed:    0.0s finished\n",
      "[Parallel(n_jobs=-1)]: Using backend LokyBackend with 40 concurrent workers.\n"
     ]
    },
    {
     "name": "stdout",
     "output_type": "stream",
     "text": [
      "Fitting 3 folds for each of 1 candidates, totalling 3 fits\n",
      "Fitting 3 folds for each of 180 candidates, totalling 540 fits\n"
     ]
    },
    {
     "name": "stderr",
     "output_type": "stream",
     "text": [
      "[Parallel(n_jobs=-1)]: Done  82 tasks      | elapsed: 52.0min\n"
     ]
    }
   ],
   "source": [
    "%run ./grid_search.ipynb"
   ]
  },
  {
   "cell_type": "code",
   "execution_count": null,
   "metadata": {},
   "outputs": [],
   "source": [
    "import warnings\n",
    "warnings.filterwarnings('ignore')\n",
    "# prepare configuration for cross validation test harness\n",
    "seed = 42\n",
    "# prepare models\n",
    "models = []\n",
    "models.append(('LR', best_estimator[0])) #LogisticRegression()\n",
    "models.append(('KNN',best_estimator[1])) #KNeighborsClassifier()))\n",
    "models.append(('DTC',best_estimator[2])) #DecisionTreeClassifier()))\n",
    "models.append(('GNB',best_estimator[3])) #GaussianNB()))\n",
    "models.append(('SVM',best_estimator[4])) # SVC()))\n",
    "models.append(('RFC',best_estimator[5])) #RandomForestClassifier)))\n",
    "models.append(('MLP',best_estimator[6])) #MLPClassifier()))\n",
    "\n",
    "# evaluate each model in turn\n",
    "results = []\n",
    "names = []\n",
    "scoring = 'accuracy'\n",
    "for name, model in models:\n",
    "    kfold = model_selection.KFold(n_splits=10, random_state=seed)\n",
    "    cv_results = model_selection.cross_val_score(model, X_train, y_train.values.ravel(), cv=kfold, scoring=scoring)\n",
    "    results.append(cv_results)\n",
    "    names.append(name)\n",
    "    msg = \"%s: %f (%f)\" % (name, cv_results.mean(), cv_results.std())\n",
    "    print(msg)\n",
    "# boxplot algorithm comparison\n",
    "fig = plt.figure()\n",
    "fig.suptitle('Algorithm Comparison')\n",
    "ax = fig.add_subplot(111)\n",
    "plt.boxplot(results)\n",
    "ax.set_xticklabels(names)\n",
    "plt.show()"
   ]
  },
  {
   "cell_type": "code",
   "execution_count": null,
   "metadata": {},
   "outputs": [],
   "source": [
    "model= RandomForestClassifier(bootstrap=True, ccp_alpha=0.0, class_weight='balanced',\n",
    "                       criterion='gini', max_depth=50, max_features=3,\n",
    "                       max_leaf_nodes=None, max_samples=None,\n",
    "                       min_impurity_decrease=0.0, min_impurity_split=None,\n",
    "                       min_samples_leaf=3, min_samples_split=8,\n",
    "                       min_weight_fraction_leaf=0.0, n_estimators=200,\n",
    "                       n_jobs=None, oob_score=False, random_state=None,\n",
    "                       verbose=0, warm_start=False)\n",
    "kfold = model_selection.KFold(n_splits=10, random_state=seed)\n",
    "scores = model_selection.cross_validate(model, X_train, y_train.values.ravel(), cv=kfold, return_train_score=True)\n",
    "print('Train scores:')\n",
    "print(scores['train_score'])\n",
    "print('Test scores:')\n",
    "print(scores['test_score'])"
   ]
  },
  {
   "cell_type": "code",
   "execution_count": null,
   "metadata": {},
   "outputs": [],
   "source": [
    "\n",
    "svc_model = RandomForestClassifier()\n",
    "svc_model.fit(X_train,y_train)\n",
    "pred = svc_model.predict(X_test)\n",
    "#print(confusion_matrix(y_test,predictions))\n",
    "#print(classification_report(y_test,predictions))\n",
    "accuracy = metrics.accuracy_score(y_test, pred)\n",
    "\n",
    "print (\"Accuracy of our RF classification  model is : {0:.4f}\".format(accuracy))\n"
   ]
  },
  {
   "cell_type": "markdown",
   "metadata": {},
   "source": [
    "# Random Forest Clasification\n",
    "using gridseach select optimal parameter"
   ]
  },
  {
   "cell_type": "code",
   "execution_count": null,
   "metadata": {},
   "outputs": [],
   "source": [
    "#!/usr/bin/env python -W ignore::DeprecationWarning \n",
    "\n",
    "# Create the parameter grid based on the results of random search \n",
    "param_grid = {\n",
    "    'bootstrap': [True],\n",
    "    'max_depth': [ 3, 10, 50, 90, 100],\n",
    "    'max_features': [3],\n",
    "    'n_estimators': [100, 200,500],\n",
    "    'min_samples_leaf': [3, 4, 5],\n",
    "    'min_samples_split': [8, 10, 12],\n",
    "    'class_weight': ['balanced',None]\n",
    "}\n",
    "\n",
    "\n",
    "# Create a based model\n",
    "rf = RandomForestClassifier()\n",
    "# Instantiate the grid search model\n",
    "grid_search = GridSearchCV(estimator = rf, param_grid = param_grid,  cv = 10, n_jobs = -1, verbose = 2, return_train_score=True)\n",
    "grid_search.fit(X_train, y_train.values.ravel())\n",
    "grid_search.best_params_\n",
    "print('Mean test score: {}'.format(grid_search.cv_results_['mean_test_score']))\n",
    "print('Mean train score: {}'.format(grid_search.cv_results_['mean_train_score']))\n"
   ]
  },
  {
   "cell_type": "code",
   "execution_count": null,
   "metadata": {},
   "outputs": [],
   "source": [
    "#!/usr/bin/env python -W ignore::DeprecationWarning \n",
    "\n",
    "# Create the parameter grid based on the results of random search \n",
    "param_gri=[]\n",
    "\n",
    "param_grid[0] = {\n",
    "    'bootstrap': [True],\n",
    "    'max_depth': [ 3, 10, 50, 90, 100],\n",
    "    'max_features': [3],\n",
    "    'n_estimators': [100, 200,500],\n",
    "    'min_samples_leaf': [3, 4, 5],\n",
    "    'min_samples_split': [8, 10, 12],\n",
    "    'class_weight': ['balanced',None]\n",
    "}\n",
    "\n",
    "\n",
    "param_grid[1] = {\n",
    "    'bootstrap': [True],\n",
    "    'max_depth': [ 3, 10,],\n",
    "    'max_features': [3],\n",
    "    'n_estimators': [100, 200],\n",
    "    'min_samples_leaf': [3, 4, ],\n",
    "    'min_samples_split': [8, 10 ],\n",
    "    #'class_weight': ['balanced',None]\n",
    "}\n",
    "\n",
    "models = []\n",
    "models.append((LogisticRegression()))\n",
    "models.append((KNeighborsClassifier()))\n",
    "models.append((DecisionTreeClassifier()))\n",
    "models.append((GaussianNB()))\n",
    "models.append((SVC()))\n",
    "models.append(( RandomForestClassifier(bootstrap=True, ccp_alpha=0.0, class_weight='balanced',\n",
    "                       criterion='gini', max_depth=50, max_features=3,\n",
    "                       max_leaf_nodes=None, max_samples=None,\n",
    "                       min_impurity_decrease=0.0, min_impurity_split=None,\n",
    "                       min_samples_leaf=3, min_samples_split=8,\n",
    "                       min_weight_fraction_leaf=0.0, n_estimators=200,\n",
    "                       n_jobs=None, oob_score=False, random_state=None,\n",
    "                       verbose=0, warm_start=False)))\n",
    "models.append((MLPClassifier()))\n",
    "\n",
    "\n",
    "# Create a based model\n",
    "for i in \n",
    "# Instantiate the grid search model\n",
    "grid_search = GridSearchCV(estimator = rf, param_grid = param_grid,  cv = 10, n_jobs = -1, verbose = 2, return_train_score=True)\n",
    "grid_search.fit(X_train, y_train.values.ravel())\n",
    "grid_search.best_params_\n",
    "print('Mean test score: {}'.format(grid_search.cv_results_['mean_test_score']))\n",
    "print('Mean train score: {}'.format(grid_search.cv_results_['mean_train_score']))\n",
    "\n"
   ]
  },
  {
   "cell_type": "code",
   "execution_count": null,
   "metadata": {},
   "outputs": [],
   "source": [
    "dic=[]\n",
    "\n",
    "param_grid= {\n",
    "    'bootstrap': [True],\n",
    "    'max_depth': [ 3, 10, 50, 90, 100],\n",
    "    'max_features': [3],\n",
    "    'n_estimators': [100, 200,500],\n",
    "    'min_samples_leaf': [3, 4, 5],\n",
    "    'min_samples_split': [8, 10, 12],\n",
    "    'class_weight': ['balanced',None]\n",
    "}\n",
    "\n",
    "\n",
    "param_grid[1] = {\n",
    "    'bootstrap': [True],\n",
    "    'max_depth': [ 3, 10,],\n",
    "    'max_features': [3],\n",
    "    'n_estimators': [100, 200],\n",
    "    'min_samples_leaf': [3, 4, ],\n",
    "    'min_samples_split': [8, 10 ],\n",
    "    #'class_weight': ['balanced',None]\n",
    "}\n",
    "\n",
    "param_grid[0] "
   ]
  },
  {
   "cell_type": "code",
   "execution_count": null,
   "metadata": {},
   "outputs": [],
   "source": [
    "grid_search.best_score_\n",
    "#grid_search.cv_results_['params'][grid_search.best_index_]"
   ]
  },
  {
   "cell_type": "code",
   "execution_count": null,
   "metadata": {},
   "outputs": [],
   "source": [
    "grid_search.best_params_\n",
    "grid_search.cv_results_['mean_train_score'].mean()\n",
    "type(grid_search.best_estimator_)\n"
   ]
  },
  {
   "cell_type": "code",
   "execution_count": null,
   "metadata": {},
   "outputs": [],
   "source": [
    "best_grid = grid_search.best_estimator_ \n",
    "\n",
    "xxx=best_grid.fit(X_train, y_train.values.ravel())\n",
    "y_pred = best_grid.predict(X_test)\n",
    "print (\"Confusion Matrix\")\n",
    "\n",
    "\n",
    "\n",
    "# labels for set 1=True to upper left and 0 = False to lower right\n",
    "print (\"{0}\".format(metrics.confusion_matrix(y_test, y_pred,labels=['1','2','3'])))\n",
    "#print(y_test['mos'].value_counts())\n",
    "\n",
    "accuracy = metrics.accuracy_score(y_test, y_pred)\n",
    "\n",
    "print (\"Accuracy of our RF classification  model is : {0:.4f}\".format(accuracy))\n",
    "\n",
    "print (\"Classification Report\\n\")\n",
    "\n",
    "# labels for set 1=True to upper left and 0 = False to lower right\n",
    "print (\"{0}\".format(metrics.classification_report(y_test, y_pred,labels=['1','2','3'])))"
   ]
  }
 ],
 "metadata": {
  "kernelspec": {
   "display_name": "Python 3",
   "language": "python",
   "name": "python3"
  },
  "language_info": {
   "codemirror_mode": {
    "name": "ipython",
    "version": 3
   },
   "file_extension": ".py",
   "mimetype": "text/x-python",
   "name": "python",
   "nbconvert_exporter": "python",
   "pygments_lexer": "ipython3",
   "version": "3.7.7"
  }
 },
 "nbformat": 4,
 "nbformat_minor": 2
}
